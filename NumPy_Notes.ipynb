{
  "nbformat": 4,
  "nbformat_minor": 0,
  "metadata": {
    "colab": {
      "provenance": [],
      "authorship_tag": "ABX9TyP9UHOTZxjbe0ZF28EVvirj",
      "include_colab_link": true
    },
    "kernelspec": {
      "name": "python3",
      "display_name": "Python 3"
    },
    "language_info": {
      "name": "python"
    }
  },
  "cells": [
    {
      "cell_type": "markdown",
      "metadata": {
        "id": "view-in-github",
        "colab_type": "text"
      },
      "source": [
        "<a href=\"https://colab.research.google.com/github/manumanasa1205/Gen-AI-project/blob/main/NumPy_Notes.ipynb\" target=\"_parent\"><img src=\"https://colab.research.google.com/assets/colab-badge.svg\" alt=\"Open In Colab\"/></a>"
      ]
    },
    {
      "cell_type": "markdown",
      "source": [
        "##NumPy (Numerical Python) is a fundamental library for numerical computations in Python. It provides support for arrays, matrices, and many mathematical functions."
      ],
      "metadata": {
        "id": "pJhWAEfoEmsC"
      }
    },
    {
      "cell_type": "markdown",
      "source": [
        "##Installation"
      ],
      "metadata": {
        "id": "0FH5QzB9HXfW"
      }
    },
    {
      "cell_type": "code",
      "execution_count": 107,
      "metadata": {
        "colab": {
          "base_uri": "https://localhost:8080/"
        },
        "id": "ckq5pg2ZEdX7",
        "outputId": "bfcd84f9-7bb7-478c-cf13-9eda1af9cbb0"
      },
      "outputs": [
        {
          "output_type": "stream",
          "name": "stdout",
          "text": [
            "Requirement already satisfied: numpy in /usr/local/lib/python3.11/dist-packages (2.0.2)\n"
          ]
        }
      ],
      "source": [
        "pip install numpy"
      ]
    },
    {
      "cell_type": "markdown",
      "source": [
        "##Importing NumPy"
      ],
      "metadata": {
        "id": "u3mBUN2HHWDD"
      }
    },
    {
      "cell_type": "code",
      "source": [
        "import numpy as np"
      ],
      "metadata": {
        "id": "dRiTsJ6DEfEE"
      },
      "execution_count": 108,
      "outputs": []
    },
    {
      "cell_type": "markdown",
      "source": [
        "##Creating Arrays"
      ],
      "metadata": {
        "id": "HDYMRB-BHPch"
      }
    },
    {
      "cell_type": "code",
      "source": [
        "xyz = np.array([1, 2, 3, 4, 5])\n",
        "xyz"
      ],
      "metadata": {
        "colab": {
          "base_uri": "https://localhost:8080/"
        },
        "id": "4WbT0E9sEfAn",
        "outputId": "d049160a-e9e9-481a-cc2f-29e6c9e46ddb"
      },
      "execution_count": 109,
      "outputs": [
        {
          "output_type": "execute_result",
          "data": {
            "text/plain": [
              "array([1, 2, 3, 4, 5])"
            ]
          },
          "metadata": {},
          "execution_count": 109
        }
      ]
    },
    {
      "cell_type": "code",
      "source": [
        "arr_2d = np.array([[1,2,3],[4,5,6]])\n",
        "arr_2d"
      ],
      "metadata": {
        "colab": {
          "base_uri": "https://localhost:8080/"
        },
        "id": "0VfyGaMVEe-U",
        "outputId": "67ff2529-8a68-46e3-c12e-1340083396fd"
      },
      "execution_count": 110,
      "outputs": [
        {
          "output_type": "execute_result",
          "data": {
            "text/plain": [
              "array([[1, 2, 3],\n",
              "       [4, 5, 6]])"
            ]
          },
          "metadata": {},
          "execution_count": 110
        }
      ]
    },
    {
      "cell_type": "code",
      "source": [
        "zeros_arr = np.zeros((3, 3))  # 3x3 array of zeros\n",
        "zeros_arr"
      ],
      "metadata": {
        "colab": {
          "base_uri": "https://localhost:8080/"
        },
        "id": "duLRitm8Ee76",
        "outputId": "5adfbb31-4709-4f29-c00f-6a1147258acd"
      },
      "execution_count": 111,
      "outputs": [
        {
          "output_type": "execute_result",
          "data": {
            "text/plain": [
              "array([[0., 0., 0.],\n",
              "       [0., 0., 0.],\n",
              "       [0., 0., 0.]])"
            ]
          },
          "metadata": {},
          "execution_count": 111
        }
      ]
    },
    {
      "cell_type": "code",
      "source": [
        "ones_arr = np.ones((2, 4))  # 2x4 array of ones\n",
        "ones_arr"
      ],
      "metadata": {
        "colab": {
          "base_uri": "https://localhost:8080/"
        },
        "id": "a1tDjAxtEe5T",
        "outputId": "5a9e1d6c-541a-43b7-c464-e64736e2a9e2"
      },
      "execution_count": 112,
      "outputs": [
        {
          "output_type": "execute_result",
          "data": {
            "text/plain": [
              "array([[1., 1., 1., 1.],\n",
              "       [1., 1., 1., 1.]])"
            ]
          },
          "metadata": {},
          "execution_count": 112
        }
      ]
    },
    {
      "cell_type": "code",
      "source": [
        "identity_matrix = np.eye(3)  # 3x3 identity matrix\n",
        "identity_matrix"
      ],
      "metadata": {
        "id": "3H-d169tEe28"
      },
      "execution_count": null,
      "outputs": []
    },
    {
      "cell_type": "code",
      "source": [
        "range_arr = np.arange(0, 10, 2)  # [0, 2, 4, 6, 8]\n",
        "range_arr"
      ],
      "metadata": {
        "id": "0n6lrPtDEe0f"
      },
      "execution_count": null,
      "outputs": []
    },
    {
      "cell_type": "code",
      "source": [
        "linspace_arr = np.linspace(0, 100, 5)  # [0.0, 0.25, 0.5, 0.75, 1.0]\n",
        "linspace_arr"
      ],
      "metadata": {
        "colab": {
          "base_uri": "https://localhost:8080/"
        },
        "id": "LEHUCppKEeyD",
        "outputId": "2725e492-2212-47aa-8ed2-93f4d23a6463"
      },
      "execution_count": 113,
      "outputs": [
        {
          "output_type": "execute_result",
          "data": {
            "text/plain": [
              "array([  0.,  25.,  50.,  75., 100.])"
            ]
          },
          "metadata": {},
          "execution_count": 113
        }
      ]
    },
    {
      "cell_type": "code",
      "source": [
        "random_arr = np.random.rand(2, 3)  # 2x3 array of random values between 0 and 1\n",
        "random_arr"
      ],
      "metadata": {
        "id": "zeTyjhCxEeve"
      },
      "execution_count": null,
      "outputs": []
    },
    {
      "cell_type": "markdown",
      "source": [
        "##Array Attributes"
      ],
      "metadata": {
        "id": "TKbspCudHK9f"
      }
    },
    {
      "cell_type": "code",
      "source": [
        "arr = np.array([[1, 2, 3], [4, 5, 6]])\n",
        "arr"
      ],
      "metadata": {
        "id": "e4s1JJXRFn8n"
      },
      "execution_count": null,
      "outputs": []
    },
    {
      "cell_type": "code",
      "source": [
        "arr.shape  # Returns the dimensions of the array (rows, columns)"
      ],
      "metadata": {
        "id": "J9FXQhnpEesy"
      },
      "execution_count": null,
      "outputs": []
    },
    {
      "cell_type": "code",
      "source": [
        "arr.dtype  # Returns the data type of the array (e.g., int64, float64)"
      ],
      "metadata": {
        "id": "uVGmGqXZEep7"
      },
      "execution_count": null,
      "outputs": []
    },
    {
      "cell_type": "code",
      "source": [
        "arr.size  # Total number of elements in the array"
      ],
      "metadata": {
        "id": "F1UnwCXkEenl"
      },
      "execution_count": null,
      "outputs": []
    },
    {
      "cell_type": "code",
      "source": [
        "arr.ndim  # Number of dimensions (axes) of the array"
      ],
      "metadata": {
        "id": "EgCkTC3ZEelP"
      },
      "execution_count": null,
      "outputs": []
    },
    {
      "cell_type": "code",
      "source": [
        "#arr.reshape(rows, cols)  # Reshapes the array\n",
        "arr.reshape(2,3)"
      ],
      "metadata": {
        "id": "JP9uPoALEeii"
      },
      "execution_count": null,
      "outputs": []
    },
    {
      "cell_type": "code",
      "source": [
        "arr.T  # Transposes the array"
      ],
      "metadata": {
        "id": "lmUGbbWNEegE"
      },
      "execution_count": null,
      "outputs": []
    },
    {
      "cell_type": "code",
      "source": [
        "arr.flatten()  # Converts a multi-dimensional array to 1D"
      ],
      "metadata": {
        "id": "1yE8Y6sJEeat"
      },
      "execution_count": null,
      "outputs": []
    },
    {
      "cell_type": "code",
      "source": [
        "arr1 = np.array([1,2,3,4])\n",
        "arr2 = np.array([4,5,6])"
      ],
      "metadata": {
        "id": "Oruu9u0HGVOT"
      },
      "execution_count": null,
      "outputs": []
    },
    {
      "cell_type": "code",
      "source": [
        "np.concatenate((arr1, arr2),axis=0)  # Concatenates arrays along a specified axis"
      ],
      "metadata": {
        "id": "sJINaqYwEeYf"
      },
      "execution_count": null,
      "outputs": []
    },
    {
      "cell_type": "code",
      "source": [
        "#np.split(arr, indices)  # Splits an array into sub-arrays"
      ],
      "metadata": {
        "id": "SvgVdHjBG6tM"
      },
      "execution_count": null,
      "outputs": []
    },
    {
      "cell_type": "code",
      "source": [
        "arr = np.array([1, 2, 3, 4, 5, 6])\n",
        "sub_arrays = np.split(arr, [3, 5])\n",
        "sub_arrays"
      ],
      "metadata": {
        "id": "wwrBOSftGy0O"
      },
      "execution_count": null,
      "outputs": []
    },
    {
      "cell_type": "code",
      "source": [
        "for i, sub_arr in enumerate(sub_arrays):\n",
        "    print(f\"Sub-array {i+1}: {sub_arr}\")"
      ],
      "metadata": {
        "id": "fHxi7pkYG4SN"
      },
      "execution_count": null,
      "outputs": []
    },
    {
      "cell_type": "markdown",
      "source": [
        "##Statistical Operations"
      ],
      "metadata": {
        "id": "-McmuPzLOSvg"
      }
    },
    {
      "cell_type": "code",
      "source": [
        "arr = np.array([[1, 2, 3], [4, 5, 6]])\n",
        "\n",
        "print(np.sum(arr))  # Sum of all elements\n",
        "print(np.mean(arr))  # Mean\n",
        "print(np.median(arr))  # Median\n",
        "print(np.std(arr))  # Standard deviation\n",
        "print(np.var(arr))  # Variance\n",
        "print(np.min(arr))  # Minimum value\n",
        "print(np.max(arr))  # Maximum value\n",
        "print(np.argmax(arr))  # Index of max value\n",
        "print(np.argmin(arr))  # Index of min value\n"
      ],
      "metadata": {
        "id": "JAxsHnuoOTSi"
      },
      "execution_count": null,
      "outputs": []
    },
    {
      "cell_type": "markdown",
      "source": [
        "## Mathematical Operations"
      ],
      "metadata": {
        "id": "ce6OdSjqHFNY"
      }
    },
    {
      "cell_type": "markdown",
      "source": [
        "Element-wise Operations"
      ],
      "metadata": {
        "id": "8zMIsFOwHkVo"
      }
    },
    {
      "cell_type": "code",
      "source": [
        "arr = np.array([[1, 2, 3], [4, 5, 6]])"
      ],
      "metadata": {
        "id": "TFs91CM1udkE"
      },
      "execution_count": null,
      "outputs": []
    },
    {
      "cell_type": "code",
      "source": [
        "print(arr + 2)  # Adds 2 to each element\n",
        "print(arr - 2)  # subtract 2 from each element\n",
        "print(arr * 3)  # Multiplies each element by 3\n",
        "print(arr / 2)  # Divides each element by 2"
      ],
      "metadata": {
        "id": "hGqFCh6-EeQd"
      },
      "execution_count": null,
      "outputs": []
    },
    {
      "cell_type": "markdown",
      "source": [
        "Matrix Multiplication"
      ],
      "metadata": {
        "id": "Sbd4NTmXHno5"
      }
    },
    {
      "cell_type": "code",
      "source": [
        "arr1 = np.array([1,2,3])\n",
        "arr2 = np.array([4,5,6])"
      ],
      "metadata": {
        "id": "ScAvZ5O3Hsv9"
      },
      "execution_count": null,
      "outputs": []
    },
    {
      "cell_type": "code",
      "source": [
        "np.dot(arr1, arr2)  # Dot product of two arrays\n",
        "arr1 @ arr2  # Alternative syntax for matrix multiplication"
      ],
      "metadata": {
        "id": "eztgYlqLHmU_"
      },
      "execution_count": null,
      "outputs": []
    },
    {
      "cell_type": "code",
      "source": [
        "A = np.array([[1, 2], [3, 4]])\n",
        "B = np.array([[5, 6], [7, 8]])\n",
        "\n",
        "print(np.dot(A, B))  # Matrix multiplication\n",
        "print(A @ B)  # Alternative for matrix multiplication\n",
        "print(np.transpose(A))  # Transpose of a matrix\n",
        "print(np.linalg.inv(A))  # Inverse of matrix--->inverse of A=1/det(A)*[d -b\n",
        "    #                                                     -c a ]\n",
        "print(np.linalg.det(A))# Determinant of matrix--->det=ad-bc"
      ],
      "metadata": {
        "id": "KLDi6DgkOOv6"
      },
      "execution_count": null,
      "outputs": []
    },
    {
      "cell_type": "markdown",
      "source": [
        " Sum, Min, Max"
      ],
      "metadata": {
        "id": "3xISXDdMIaa5"
      }
    },
    {
      "cell_type": "code",
      "source": [
        "arr = np.array([2,3,4,5,6,10])\n",
        "arr"
      ],
      "metadata": {
        "id": "Qsv-9ypeH5bA"
      },
      "execution_count": null,
      "outputs": []
    },
    {
      "cell_type": "code",
      "source": [
        "np.sum(arr)  # Sum of all elements"
      ],
      "metadata": {
        "id": "IysE5xEUHqz9"
      },
      "execution_count": null,
      "outputs": []
    },
    {
      "cell_type": "code",
      "source": [
        "np.max(arr)  # Maximum value in the array"
      ],
      "metadata": {
        "id": "gq8b2QEAITwS"
      },
      "execution_count": null,
      "outputs": []
    },
    {
      "cell_type": "code",
      "source": [
        "np.min(arr)  # Minimum value in the array"
      ],
      "metadata": {
        "id": "qVsKKiu3H3Qe"
      },
      "execution_count": null,
      "outputs": []
    },
    {
      "cell_type": "markdown",
      "source": [
        " Mean, Median, Standard Deviation"
      ],
      "metadata": {
        "id": "espVxCPBIg0l"
      }
    },
    {
      "cell_type": "code",
      "source": [
        "np.mean(arr)  # Mean of the array"
      ],
      "metadata": {
        "id": "X-PEI-bdIPww"
      },
      "execution_count": null,
      "outputs": []
    },
    {
      "cell_type": "code",
      "source": [
        "np.median(arr)  # Median of the array"
      ],
      "metadata": {
        "id": "k7KWo8RzIj10"
      },
      "execution_count": null,
      "outputs": []
    },
    {
      "cell_type": "code",
      "source": [
        "np.std(arr)  # Standard deviation of the array"
      ],
      "metadata": {
        "id": "lwlmR1fmIltE"
      },
      "execution_count": null,
      "outputs": []
    },
    {
      "cell_type": "markdown",
      "source": [
        "Trigonometric Functions"
      ],
      "metadata": {
        "id": "CqZ86DKfI2Nl"
      }
    },
    {
      "cell_type": "code",
      "source": [
        "np.sin(arr)  # Sine of each element"
      ],
      "metadata": {
        "id": "U61cnVVpIsff"
      },
      "execution_count": null,
      "outputs": []
    },
    {
      "cell_type": "code",
      "source": [
        "np.cos(arr)  # Cosine of each element"
      ],
      "metadata": {
        "id": "P2fGV1O3I5U8"
      },
      "execution_count": null,
      "outputs": []
    },
    {
      "cell_type": "code",
      "source": [
        "np.tan(arr)  # Tangent of each element"
      ],
      "metadata": {
        "id": "3nQc7vYRI7fF"
      },
      "execution_count": null,
      "outputs": []
    },
    {
      "cell_type": "markdown",
      "source": [
        "##Indexing and Slicing"
      ],
      "metadata": {
        "id": "yNMvns68JAwv"
      }
    },
    {
      "cell_type": "markdown",
      "source": [
        "Single Element"
      ],
      "metadata": {
        "id": "bywecW2wJDyF"
      }
    },
    {
      "cell_type": "code",
      "source": [
        "arr = np.array([[2,3,4],[5,6,10]])\n",
        "arr"
      ],
      "metadata": {
        "id": "wnOho_tmJGhD"
      },
      "execution_count": null,
      "outputs": []
    },
    {
      "cell_type": "code",
      "source": [
        "arr[0]  # First element of the array\n"
      ],
      "metadata": {
        "id": "5QAlIeMsI-KH"
      },
      "execution_count": null,
      "outputs": []
    },
    {
      "cell_type": "code",
      "source": [
        "arr[1, 2]  # Element at row 1, column 2"
      ],
      "metadata": {
        "id": "9aZqY0SH3fAD"
      },
      "execution_count": null,
      "outputs": []
    },
    {
      "cell_type": "markdown",
      "source": [
        " Slicing"
      ],
      "metadata": {
        "id": "nHdfHkwKJiIc"
      }
    },
    {
      "cell_type": "code",
      "source": [
        "arr[1:4]  # Elements from index 1 to 3"
      ],
      "metadata": {
        "id": "hvpXMaGMJFxs"
      },
      "execution_count": null,
      "outputs": []
    },
    {
      "cell_type": "code",
      "source": [
        "arr[:, 2]  # All rows, column 2"
      ],
      "metadata": {
        "id": "jVTAcr6VJmGD"
      },
      "execution_count": null,
      "outputs": []
    },
    {
      "cell_type": "code",
      "source": [
        "arr = np.array([[2,3,4],[5,6,10]])\n",
        "arr"
      ],
      "metadata": {
        "id": "M4rNiRAO6Qku"
      },
      "execution_count": null,
      "outputs": []
    },
    {
      "cell_type": "code",
      "source": [
        "arr[:2, 0:1]  # Subarray from rows 1-2 and columns 0-1"
      ],
      "metadata": {
        "id": "LKW5hhumJo5s"
      },
      "execution_count": null,
      "outputs": []
    },
    {
      "cell_type": "markdown",
      "source": [
        "Boolean Indexing"
      ],
      "metadata": {
        "id": "_hWwf69WLLT6"
      }
    },
    {
      "cell_type": "code",
      "source": [
        "arr[arr > 5]  # Elements greater than 2"
      ],
      "metadata": {
        "id": "DCkW-2OHJpYE"
      },
      "execution_count": null,
      "outputs": []
    },
    {
      "cell_type": "markdown",
      "source": [
        "##Array Manipulation"
      ],
      "metadata": {
        "id": "XE5gnpS0LQ44"
      }
    },
    {
      "cell_type": "markdown",
      "source": [
        "Stacking"
      ],
      "metadata": {
        "id": "S42HRE3kLU-A"
      }
    },
    {
      "cell_type": "code",
      "source": [
        "arr1 = np.array([1,2,3])\n",
        "arr2 = np.array([4,5,6])"
      ],
      "metadata": {
        "id": "CTFwreLBLi4I"
      },
      "execution_count": null,
      "outputs": []
    },
    {
      "cell_type": "code",
      "source": [
        "np.vstack((arr1, arr2))  # Vertical stacking"
      ],
      "metadata": {
        "id": "kzOeChATJtqn"
      },
      "execution_count": null,
      "outputs": []
    },
    {
      "cell_type": "code",
      "source": [
        "np.hstack((arr1, arr2))  # Horizontal stacking"
      ],
      "metadata": {
        "id": "h4JPNqQEJtnS"
      },
      "execution_count": null,
      "outputs": []
    },
    {
      "cell_type": "markdown",
      "source": [
        "Copying"
      ],
      "metadata": {
        "id": "Cwgir304LpV1"
      }
    },
    {
      "cell_type": "code",
      "source": [
        "arr = np.array([[2,3,4],[5,6,10]])"
      ],
      "metadata": {
        "id": "9x0eLaRlL1CK"
      },
      "execution_count": null,
      "outputs": []
    },
    {
      "cell_type": "code",
      "source": [
        "arr_copy = arr.copy()  # Creates a copy of the array\n",
        "arr_copy"
      ],
      "metadata": {
        "id": "iQNyrxbLLqMh"
      },
      "execution_count": null,
      "outputs": []
    },
    {
      "cell_type": "markdown",
      "source": [
        " Sorting"
      ],
      "metadata": {
        "id": "JahFrmdFL4Y4"
      }
    },
    {
      "cell_type": "code",
      "source": [
        "np.sort(arr)  # Sorts the array"
      ],
      "metadata": {
        "id": "lFE2jBa2LqzD"
      },
      "execution_count": null,
      "outputs": []
    },
    {
      "cell_type": "code",
      "source": [
        "arr1 = np.array([[1, 2], [3, 4]])\n",
        "arr2 = np.array([[5, 6]])\n",
        "\n",
        "print(np.concatenate((arr1, arr2.T), axis=1))  # Column-wise concatenation\n",
        "print(np.vstack((arr1, arr2)))  # Stack vertically\n",
        "print(np.hstack((arr1, arr2.T)))  # Stack horizontally\n"
      ],
      "metadata": {
        "id": "SPx8rSPSOHKb"
      },
      "execution_count": null,
      "outputs": []
    },
    {
      "cell_type": "markdown",
      "source": [
        "##Advanced Operations"
      ],
      "metadata": {
        "id": "BiCQD90-L9eW"
      }
    },
    {
      "cell_type": "markdown",
      "source": [
        "Broadcasting"
      ],
      "metadata": {
        "id": "CcDHbDhtMB3L"
      }
    },
    {
      "cell_type": "code",
      "source": [
        "arr = np.array([[2,3,4],[5,6,10]])\n",
        "arr"
      ],
      "metadata": {
        "id": "C8t9-F6WMILW"
      },
      "execution_count": null,
      "outputs": []
    },
    {
      "cell_type": "code",
      "source": [
        "arr + np.array([1, 2, 3])  # Adds [1, 2, 3] to each row"
      ],
      "metadata": {
        "id": "jCUc-UwFL6FH"
      },
      "execution_count": null,
      "outputs": []
    },
    {
      "cell_type": "markdown",
      "source": [
        "Masking"
      ],
      "metadata": {
        "id": "A95NHelnMMjX"
      }
    },
    {
      "cell_type": "code",
      "source": [
        "mask = arr > 2\n",
        "arr[mask]  # Returns elements where the condition is True"
      ],
      "metadata": {
        "id": "jDyQPcNNMDXr"
      },
      "execution_count": null,
      "outputs": []
    },
    {
      "cell_type": "markdown",
      "source": [
        "Universal Functions (ufuncs)\n",
        "python"
      ],
      "metadata": {
        "id": "qo9MnIqwMSbg"
      }
    },
    {
      "cell_type": "code",
      "source": [
        "np.sqrt(arr)  # Square root of each element"
      ],
      "metadata": {
        "id": "3m8JyGQuMOay"
      },
      "execution_count": null,
      "outputs": []
    },
    {
      "cell_type": "code",
      "source": [
        "np.exp(arr)  # Exponential of each element"
      ],
      "metadata": {
        "id": "LPTKf9vqMUYR"
      },
      "execution_count": null,
      "outputs": []
    },
    {
      "cell_type": "code",
      "source": [
        "np.log(arr)  # Natural logarithm of each element"
      ],
      "metadata": {
        "id": "AGyQiCnpMWzN"
      },
      "execution_count": null,
      "outputs": []
    },
    {
      "cell_type": "markdown",
      "source": [
        "##Saving and Loading Arrays"
      ],
      "metadata": {
        "id": "IGIOxSnlMbnh"
      }
    },
    {
      "cell_type": "markdown",
      "source": [
        "Saving"
      ],
      "metadata": {
        "id": "ZtfoJc4RMeP3"
      }
    },
    {
      "cell_type": "code",
      "source": [
        "np.save('filename.npy', arr)  # Saves array to a file"
      ],
      "metadata": {
        "id": "M0ZvGALQMYbw"
      },
      "execution_count": null,
      "outputs": []
    },
    {
      "cell_type": "markdown",
      "source": [
        "Loading"
      ],
      "metadata": {
        "id": "CbbVtCqhMjw6"
      }
    },
    {
      "cell_type": "code",
      "source": [
        "arr = np.load('filename.npy')  # Loads array from a file\n",
        "arr"
      ],
      "metadata": {
        "id": "XED0jjSHMgSd"
      },
      "execution_count": null,
      "outputs": []
    },
    {
      "cell_type": "markdown",
      "source": [
        "Text Files"
      ],
      "metadata": {
        "id": "0oxsDINHMnKG"
      }
    },
    {
      "cell_type": "code",
      "source": [
        "np.savetxt('filename.txt', arr)  # Saves array to a text file\n",
        "arr = np.loadtxt('filename.txt')  # Loads array from a text file"
      ],
      "metadata": {
        "id": "KWtSTWYCMlOu"
      },
      "execution_count": null,
      "outputs": []
    },
    {
      "cell_type": "code",
      "source": [
        "arr"
      ],
      "metadata": {
        "id": "8Z0w8N2hMo-l"
      },
      "execution_count": null,
      "outputs": []
    },
    {
      "cell_type": "markdown",
      "source": [],
      "metadata": {
        "id": "ioLUC-ZZNFEJ"
      }
    },
    {
      "cell_type": "markdown",
      "source": [
        "##Common Errors and Debugging\n",
        "\n",
        "Shape Mismatch: Ensure arrays have compatible shapes for operations.\n",
        "\n",
        "Data Type Issues: Use arr.astype(dtype) to change data types.\n",
        "\n",
        "Memory Errors: Use np.delete(arr, obj) to remove elements.\n",
        "\n",
        "\n",
        "\n",
        "\n"
      ],
      "metadata": {
        "id": "ULwvgSxBM2yI"
      }
    },
    {
      "cell_type": "markdown",
      "source": [
        "##Handling NaN and Infinite Values"
      ],
      "metadata": {
        "id": "2zj2A6F7Ng4J"
      }
    },
    {
      "cell_type": "code",
      "source": [
        "arr = np.array([1, 2, np.nan, 4, np.inf])\n",
        "\n",
        "print(np.isnan(arr))  # Check for NaN values\n",
        "print(np.isinf(arr))  # Check for infinite values\n",
        "print(np.nan_to_num(arr))  # Replace NaN with 0 and Inf with large numbers\n"
      ],
      "metadata": {
        "id": "w83jiKPONii5"
      },
      "execution_count": null,
      "outputs": []
    },
    {
      "cell_type": "markdown",
      "source": [
        "##NumPy Advanced Functions"
      ],
      "metadata": {
        "id": "SpAaDM_zNwLh"
      }
    },
    {
      "cell_type": "markdown",
      "source": [
        "Unique Elements & Counting"
      ],
      "metadata": {
        "id": "LV2bxm6INzVl"
      }
    },
    {
      "cell_type": "code",
      "source": [
        "arr = np.array([1, 2, 2, 3, 4, 4, 4, 5])\n",
        "\n",
        "print(np.unique(arr))  # Get unique elements\n",
        "print(np.bincount(arr))  # Count occurrences of each integer\n"
      ],
      "metadata": {
        "id": "D8i2Gze4Nl5v"
      },
      "execution_count": null,
      "outputs": []
    },
    {
      "cell_type": "markdown",
      "source": [
        "Where Condition"
      ],
      "metadata": {
        "id": "pFdHlZpCN0ep"
      }
    },
    {
      "cell_type": "code",
      "source": [
        "arr = np.array([10, 20, 30, 40])\n",
        "print(np.where(arr > 20, \"High\", \"Low\"))  # Replace values based on condition\n"
      ],
      "metadata": {
        "id": "eW7UaLXtN2e_"
      },
      "execution_count": null,
      "outputs": []
    },
    {
      "cell_type": "markdown",
      "source": [
        "Cumulative Sum and Product"
      ],
      "metadata": {
        "id": "19VojViHN6E7"
      }
    },
    {
      "cell_type": "code",
      "source": [
        "arr = np.array([1, 2, 3, 4])\n",
        "\n",
        "print(np.cumsum(arr))  # Cumulative sum\n",
        "print(np.cumprod(arr))  # Cumulative product\n"
      ],
      "metadata": {
        "id": "mfkulA-iN34Y"
      },
      "execution_count": null,
      "outputs": []
    },
    {
      "cell_type": "code",
      "source": [],
      "metadata": {
        "id": "D38ZG66VN7np"
      },
      "execution_count": null,
      "outputs": []
    }
  ]
}